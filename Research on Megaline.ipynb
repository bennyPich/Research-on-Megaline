{
 "cells": [
  {
   "cell_type": "markdown",
   "metadata": {},
   "source": [
    "**Review**\n",
    "  \n",
    "Hi, my name is Dmitry and I will be reviewing your project.\n",
    "  \n",
    "You can find my comments in colored markdown cells:\n",
    "  \n",
    "<div class=\"alert alert-success\">\n",
    "  If everything is done successfully.\n",
    "</div>\n",
    "  \n",
    "<div class=\"alert alert-warning\">\n",
    "  If I have some (optional) suggestions, or questions to think about, or general comments.\n",
    "</div>\n",
    "  \n",
    "<div class=\"alert alert-danger\">\n",
    "  If a section requires some corrections. Work can't be accepted with red comments.\n",
    "</div>\n",
    "  \n",
    "Please don't remove my comments, as it will make further review iterations much harder for me.\n",
    "  \n",
    "Feel free to reply to my comments or ask questions using the following template:\n",
    "  \n",
    "<div class=\"alert alert-info\">\n",
    "  For your comments and questions.\n",
    "</div>\n",
    "  \n",
    "First of all, thank you for turning in the project! You did an excellent job! The project is accepted. Keep up the good work on the next sprint!"
   ]
  },
  {
   "cell_type": "markdown",
   "metadata": {},
   "source": [
    "# Research on Megaline"
   ]
  },
  {
   "cell_type": "markdown",
   "metadata": {},
   "source": [
    "Mobile carrier Megaline has found out that many of their subscribers use legacy plans.<br>\n",
    "They want to develop a model that would analyze subscribers' behavior and recommend one of Megaline's newer plans: Smart or Ultra.<br>\n",
    "You have access to behavior data about subscribers who have already switched to the new plans.<br>\n",
    "For this classification task, you need to develop a model that will pick the right plan. <br>\n",
    "<b>The Task:</b><br>\n",
    "Develop a model with the highest possible accuracy.<br>\n",
    "In this project, the threshold for accuracy is 0.75.<br>\n",
    "Check the accuracy using the test dataset."
   ]
  },
  {
   "cell_type": "markdown",
   "metadata": {},
   "source": [
    "<b>Data description</b><br>\n",
    "Every observation in the dataset contains monthly behavior information about one user.<br>\n",
    "The information given is as follows:<br>\n",
    "- сalls — number of calls,<br>\n",
    "- minutes — total call duration in minutes,<br>\n",
    "- messages — number of text messages,<br>\n",
    "- mb_used — Internet traffic used in MB,<br>\n",
    "- is_ultra — plan for the current month (Ultra - 1, Smart - 0)."
   ]
  },
  {
   "cell_type": "markdown",
   "metadata": {},
   "source": [
    "## Open and look through the data file."
   ]
  },
  {
   "cell_type": "code",
   "execution_count": 1,
   "metadata": {},
   "outputs": [],
   "source": [
    "import pandas as pd\n",
    "from sklearn.model_selection import train_test_split\n",
    "from sklearn.metrics import accuracy_score\n",
    "from sklearn.tree import DecisionTreeClassifier\n",
    "from sklearn.ensemble import RandomForestClassifier \n",
    "from sklearn.linear_model import LogisticRegression\n",
    "from sklearn.dummy import DummyClassifier\n",
    "import pprint"
   ]
  },
  {
   "cell_type": "code",
   "execution_count": 2,
   "metadata": {},
   "outputs": [
    {
     "name": "stdout",
     "output_type": "stream",
     "text": [
      "<class 'pandas.core.frame.DataFrame'>\n",
      "RangeIndex: 3214 entries, 0 to 3213\n",
      "Data columns (total 5 columns):\n",
      "calls       3214 non-null float64\n",
      "minutes     3214 non-null float64\n",
      "messages    3214 non-null float64\n",
      "mb_used     3214 non-null float64\n",
      "is_ultra    3214 non-null int64\n",
      "dtypes: float64(4), int64(1)\n",
      "memory usage: 125.7 KB\n"
     ]
    },
    {
     "data": {
      "text/html": [
       "<div>\n",
       "<style scoped>\n",
       "    .dataframe tbody tr th:only-of-type {\n",
       "        vertical-align: middle;\n",
       "    }\n",
       "\n",
       "    .dataframe tbody tr th {\n",
       "        vertical-align: top;\n",
       "    }\n",
       "\n",
       "    .dataframe thead th {\n",
       "        text-align: right;\n",
       "    }\n",
       "</style>\n",
       "<table border=\"1\" class=\"dataframe\">\n",
       "  <thead>\n",
       "    <tr style=\"text-align: right;\">\n",
       "      <th></th>\n",
       "      <th>calls</th>\n",
       "      <th>minutes</th>\n",
       "      <th>messages</th>\n",
       "      <th>mb_used</th>\n",
       "      <th>is_ultra</th>\n",
       "    </tr>\n",
       "  </thead>\n",
       "  <tbody>\n",
       "    <tr>\n",
       "      <td>1296</td>\n",
       "      <td>43.0</td>\n",
       "      <td>310.01</td>\n",
       "      <td>0.0</td>\n",
       "      <td>11486.69</td>\n",
       "      <td>1</td>\n",
       "    </tr>\n",
       "    <tr>\n",
       "      <td>2495</td>\n",
       "      <td>74.0</td>\n",
       "      <td>506.50</td>\n",
       "      <td>51.0</td>\n",
       "      <td>13174.87</td>\n",
       "      <td>0</td>\n",
       "    </tr>\n",
       "    <tr>\n",
       "      <td>2680</td>\n",
       "      <td>176.0</td>\n",
       "      <td>1205.57</td>\n",
       "      <td>74.0</td>\n",
       "      <td>33903.30</td>\n",
       "      <td>1</td>\n",
       "    </tr>\n",
       "    <tr>\n",
       "      <td>3060</td>\n",
       "      <td>42.0</td>\n",
       "      <td>277.25</td>\n",
       "      <td>49.0</td>\n",
       "      <td>15483.11</td>\n",
       "      <td>0</td>\n",
       "    </tr>\n",
       "    <tr>\n",
       "      <td>485</td>\n",
       "      <td>88.0</td>\n",
       "      <td>640.63</td>\n",
       "      <td>27.0</td>\n",
       "      <td>21251.05</td>\n",
       "      <td>0</td>\n",
       "    </tr>\n",
       "    <tr>\n",
       "      <td>2298</td>\n",
       "      <td>64.0</td>\n",
       "      <td>475.68</td>\n",
       "      <td>20.0</td>\n",
       "      <td>8540.27</td>\n",
       "      <td>0</td>\n",
       "    </tr>\n",
       "    <tr>\n",
       "      <td>883</td>\n",
       "      <td>5.0</td>\n",
       "      <td>38.41</td>\n",
       "      <td>1.0</td>\n",
       "      <td>9707.95</td>\n",
       "      <td>0</td>\n",
       "    </tr>\n",
       "    <tr>\n",
       "      <td>2715</td>\n",
       "      <td>82.0</td>\n",
       "      <td>595.63</td>\n",
       "      <td>42.0</td>\n",
       "      <td>11437.75</td>\n",
       "      <td>0</td>\n",
       "    </tr>\n",
       "    <tr>\n",
       "      <td>3151</td>\n",
       "      <td>84.0</td>\n",
       "      <td>622.60</td>\n",
       "      <td>32.0</td>\n",
       "      <td>16318.74</td>\n",
       "      <td>0</td>\n",
       "    </tr>\n",
       "    <tr>\n",
       "      <td>3036</td>\n",
       "      <td>16.0</td>\n",
       "      <td>100.87</td>\n",
       "      <td>8.0</td>\n",
       "      <td>8622.56</td>\n",
       "      <td>0</td>\n",
       "    </tr>\n",
       "  </tbody>\n",
       "</table>\n",
       "</div>"
      ],
      "text/plain": [
       "      calls  minutes  messages   mb_used  is_ultra\n",
       "1296   43.0   310.01       0.0  11486.69         1\n",
       "2495   74.0   506.50      51.0  13174.87         0\n",
       "2680  176.0  1205.57      74.0  33903.30         1\n",
       "3060   42.0   277.25      49.0  15483.11         0\n",
       "485    88.0   640.63      27.0  21251.05         0\n",
       "2298   64.0   475.68      20.0   8540.27         0\n",
       "883     5.0    38.41       1.0   9707.95         0\n",
       "2715   82.0   595.63      42.0  11437.75         0\n",
       "3151   84.0   622.60      32.0  16318.74         0\n",
       "3036   16.0   100.87       8.0   8622.56         0"
      ]
     },
     "execution_count": 2,
     "metadata": {},
     "output_type": "execute_result"
    }
   ],
   "source": [
    "#Read csv file\n",
    "users_behavior = pd.read_csv('https://code.s3.yandex.net/datasets/users_behavior.csv') \n",
    "#General information\n",
    "users_behavior.info()\n",
    "users_behavior.sample(10)"
   ]
  },
  {
   "cell_type": "markdown",
   "metadata": {},
   "source": [
    "<div class=\"alert alert-success\">\n",
    "<b>Reviewer's comment</b>\n",
    "  \n",
    "Alright, the data was loaded and examined!\n",
    "  \n",
    "</div>"
   ]
  },
  {
   "cell_type": "markdown",
   "metadata": {},
   "source": [
    "## Split the source data into a training set, a validation set, and a test set."
   ]
  },
  {
   "cell_type": "markdown",
   "metadata": {},
   "source": [
    "Split data to 3 sets:<br>\n",
    "training set - 60%<br>\n",
    "validation set - 20%<br>\n",
    "test set - 20%"
   ]
  },
  {
   "cell_type": "code",
   "execution_count": 3,
   "metadata": {},
   "outputs": [],
   "source": [
    "# const random_state \n",
    "RANDOM_STATE = 12345"
   ]
  },
  {
   "cell_type": "code",
   "execution_count": 4,
   "metadata": {},
   "outputs": [],
   "source": [
    "#split data into training and validation \n",
    "df_train, df_valid = train_test_split(users_behavior, test_size=0.2, random_state=RANDOM_STATE)\n",
    "#split data into training and test \n",
    "df_train, df_test = train_test_split(df_train, test_size=0.25, random_state=RANDOM_STATE)"
   ]
  },
  {
   "cell_type": "code",
   "execution_count": 5,
   "metadata": {},
   "outputs": [
    {
     "data": {
      "text/plain": [
       "(1928, 5)"
      ]
     },
     "execution_count": 5,
     "metadata": {},
     "output_type": "execute_result"
    }
   ],
   "source": [
    "df_train.shape"
   ]
  },
  {
   "cell_type": "code",
   "execution_count": 6,
   "metadata": {},
   "outputs": [
    {
     "data": {
      "text/plain": [
       "(643, 5)"
      ]
     },
     "execution_count": 6,
     "metadata": {},
     "output_type": "execute_result"
    }
   ],
   "source": [
    "df_valid.shape"
   ]
  },
  {
   "cell_type": "code",
   "execution_count": 7,
   "metadata": {},
   "outputs": [
    {
     "data": {
      "text/plain": [
       "(643, 5)"
      ]
     },
     "execution_count": 7,
     "metadata": {},
     "output_type": "execute_result"
    }
   ],
   "source": [
    "df_test.shape"
   ]
  },
  {
   "cell_type": "markdown",
   "metadata": {},
   "source": [
    "<div class=\"alert alert-success\">\n",
    "<b>Reviewer's comment</b>\n",
    "  \n",
    "Great, the data was split into train, validation and test. The proportions are reasonable.\n",
    "  \n",
    "</div>"
   ]
  },
  {
   "cell_type": "markdown",
   "metadata": {},
   "source": [
    "##  Investigate the quality of different models by changing hyperparameters. Briefly describe the findings of the study."
   ]
  },
  {
   "cell_type": "code",
   "execution_count": 8,
   "metadata": {},
   "outputs": [],
   "source": [
    "# list of features columns\n",
    "features_train = df_train.drop(['is_ultra'], axis=1)\n",
    "features_valid = df_valid.drop(['is_ultra'], axis=1)\n",
    "\n",
    "# Target column\n",
    "target_train = df_train['is_ultra']\n",
    "target_valid = df_valid['is_ultra']"
   ]
  },
  {
   "cell_type": "markdown",
   "metadata": {},
   "source": [
    "### DecisionTree"
   ]
  },
  {
   "cell_type": "code",
   "execution_count": 9,
   "metadata": {},
   "outputs": [
    {
     "name": "stdout",
     "output_type": "stream",
     "text": [
      "[(7, 0.7884914463452566),\n",
      " (5, 0.7884914463452566),\n",
      " (4, 0.7869362363919129),\n",
      " (3, 0.7869362363919129),\n",
      " (2, 0.7838258164852255),\n",
      " (8, 0.7807153965785381),\n",
      " (6, 0.7791601866251944),\n",
      " (9, 0.7776049766718507),\n",
      " (10, 0.7713841368584758),\n",
      " (12, 0.7667185069984448),\n",
      " (11, 0.7651632970451011),\n",
      " (14, 0.7542768273716952),\n",
      " (13, 0.749611197511664),\n",
      " (1, 0.7480559875583204),\n",
      " (17, 0.744945567651633),\n",
      " (18, 0.7433903576982893),\n",
      " (16, 0.7433903576982893),\n",
      " (20, 0.7418351477449455),\n",
      " (15, 0.7418351477449455),\n",
      " (27, 0.7371695178849145),\n",
      " (24, 0.7325038880248833),\n",
      " (29, 0.7309486780715396),\n",
      " (28, 0.7309486780715396),\n",
      " (19, 0.7278382581648523),\n",
      " (26, 0.7262830482115086),\n",
      " (21, 0.7247278382581649),\n",
      " (23, 0.7231726283048211),\n",
      " (22, 0.7231726283048211),\n",
      " (25, 0.7216174183514774)]\n"
     ]
    }
   ],
   "source": [
    "# Create dictionary\n",
    "result_dict={}\n",
    "\n",
    "#create a loop for max_depth from 1 to n\n",
    "n=30\n",
    "for depth in range(1, n):\n",
    "        model = DecisionTreeClassifier(random_state=RANDOM_STATE, max_depth=depth)\n",
    "        # < train the model >\n",
    "        model.fit(features_train, target_train)\n",
    "        # find the predictions using validation set \n",
    "        predictions_valid = model.predict(features_valid) \n",
    "            \n",
    "        # Add item to dictionary\n",
    "        result_dict[depth] = accuracy_score(target_valid, predictions_valid)\n",
    "\n",
    "# Sort the dictionary by values       \n",
    "sorted_results = sorted(result_dict.items(),key = lambda kv:(kv[1], kv[0]),reverse=True)\n",
    "\n",
    "# Print the results in ascending order\n",
    "pprint.pprint(sorted_results)\n"
   ]
  },
  {
   "cell_type": "markdown",
   "metadata": {},
   "source": [
    "### Conclusion"
   ]
  },
  {
   "cell_type": "markdown",
   "metadata": {},
   "source": [
    "max_depth = 5,7 have the best results"
   ]
  },
  {
   "cell_type": "markdown",
   "metadata": {},
   "source": [
    "### Random Forest"
   ]
  },
  {
   "cell_type": "code",
   "execution_count": 10,
   "metadata": {},
   "outputs": [
    {
     "name": "stdout",
     "output_type": "stream",
     "text": [
      "[(28, 0.7916018662519441),\n",
      " (13, 0.7916018662519441),\n",
      " (15, 0.7900466562986003),\n",
      " (14, 0.7884914463452566),\n",
      " (29, 0.7869362363919129),\n",
      " (27, 0.7869362363919129),\n",
      " (10, 0.7869362363919129),\n",
      " (18, 0.7853810264385692),\n",
      " (26, 0.7838258164852255),\n",
      " (25, 0.7838258164852255),\n",
      " (24, 0.7838258164852255),\n",
      " (22, 0.7838258164852255),\n",
      " (19, 0.7838258164852255),\n",
      " (17, 0.7838258164852255),\n",
      " (16, 0.7838258164852255),\n",
      " (12, 0.7822706065318819),\n",
      " (11, 0.7822706065318819),\n",
      " (23, 0.7807153965785381),\n",
      " (21, 0.7807153965785381),\n",
      " (5, 0.7807153965785381),\n",
      " (20, 0.7791601866251944),\n",
      " (9, 0.7791601866251944),\n",
      " (8, 0.776049766718507),\n",
      " (6, 0.7744945567651633),\n",
      " (7, 0.7729393468118196),\n",
      " (3, 0.7729393468118196),\n",
      " (4, 0.7667185069984448),\n",
      " (2, 0.7542768273716952),\n",
      " (1, 0.7340590979782271)]\n"
     ]
    }
   ],
   "source": [
    "# Create dictionary\n",
    "result_dict={}\n",
    "\n",
    "#create a loop for n_estimators from 1 to n\n",
    "n=30\n",
    "for n_estimator in range(1, n):\n",
    "        model = RandomForestClassifier(random_state=RANDOM_STATE, n_estimators=n_estimator) \n",
    "        # < train the model >\n",
    "        model.fit(features_train, target_train)\n",
    "        # find the predictions using validation set \n",
    "        predictions_valid = model.predict(features_valid) \n",
    "            \n",
    "        # Add item to dictionary\n",
    "        result_dict[n_estimator] = accuracy_score(target_valid, predictions_valid)\n",
    "\n",
    "# Sort the dictionary by values       \n",
    "sorted_results = sorted(result_dict.items(),key = lambda kv:(kv[1], kv[0]),reverse=True)\n",
    "\n",
    "# Print the results in ascending order\n",
    "pprint.pprint(sorted_results)\n"
   ]
  },
  {
   "cell_type": "markdown",
   "metadata": {},
   "source": [
    "###  Conclusion"
   ]
  },
  {
   "cell_type": "markdown",
   "metadata": {},
   "source": [
    "n_estimators=13,28 has the best results"
   ]
  },
  {
   "cell_type": "markdown",
   "metadata": {},
   "source": [
    "### Logistic Regression"
   ]
  },
  {
   "cell_type": "code",
   "execution_count": 17,
   "metadata": {},
   "outputs": [
    {
     "name": "stdout",
     "output_type": "stream",
     "text": [
      "newton-cg\n",
      "lbfgs\n",
      "liblinear\n",
      "sag\n",
      "saga\n"
     ]
    },
    {
     "name": "stderr",
     "output_type": "stream",
     "text": [
      "/opt/conda/lib/python3.7/site-packages/scipy/optimize/linesearch.py:466: LineSearchWarning: The line search algorithm did not converge\n",
      "  warn('The line search algorithm did not converge', LineSearchWarning)\n",
      "/opt/conda/lib/python3.7/site-packages/scipy/optimize/linesearch.py:314: LineSearchWarning: The line search algorithm did not converge\n",
      "  warn('The line search algorithm did not converge', LineSearchWarning)\n",
      "/opt/conda/lib/python3.7/site-packages/sklearn/linear_model/sag.py:337: ConvergenceWarning: The max_iter was reached which means the coef_ did not converge\n",
      "  \"the coef_ did not converge\", ConvergenceWarning)\n"
     ]
    },
    {
     "name": "stdout",
     "output_type": "stream",
     "text": [
      "[('newton-cg', 0.7589424572317263),\n",
      " ('lbfgs', 0.7589424572317263),\n",
      " ('liblinear', 0.702954898911353),\n",
      " ('saga', 0.6967340590979783),\n",
      " ('sag', 0.6967340590979783)]\n"
     ]
    },
    {
     "name": "stderr",
     "output_type": "stream",
     "text": [
      "/opt/conda/lib/python3.7/site-packages/sklearn/linear_model/sag.py:337: ConvergenceWarning: The max_iter was reached which means the coef_ did not converge\n",
      "  \"the coef_ did not converge\", ConvergenceWarning)\n"
     ]
    }
   ],
   "source": [
    "# Create dictionary\n",
    "result_dict={}\n",
    "solvers_list=['newton-cg', 'lbfgs', 'liblinear', 'sag', 'saga']\n",
    "#create a loop for n_estimators from 1 to n\n",
    "n=30\n",
    "for solver in solvers_list:       \n",
    "        model = LogisticRegression(random_state=RANDOM_STATE, solver=solver, max_iter=350) \n",
    "        # < train the model >\n",
    "        model.fit(features_train, target_train)\n",
    "        # find the predictions using validation set \n",
    "        predictions_valid = model.predict(features_valid) \n",
    "       \n",
    "       # Add item to dictionary\n",
    "        result_dict[solver] = accuracy_score(target_valid, predictions_valid)\n",
    "              \n",
    "          \n",
    "        \n",
    "        \n",
    "        \n",
    "# Sort the dictionary by values       \n",
    "sorted_results = sorted(result_dict.items(),key = lambda kv:(kv[1], kv[0]),reverse=True)\n",
    "\n",
    "# Print the results in ascending order\n",
    "pprint.pprint(sorted_results)\n"
   ]
  },
  {
   "cell_type": "markdown",
   "metadata": {},
   "source": [
    "solver= 'newton-cg', 'lbfgs' has the best results"
   ]
  },
  {
   "cell_type": "markdown",
   "metadata": {},
   "source": [
    "## Conclusion"
   ]
  },
  {
   "cell_type": "markdown",
   "metadata": {},
   "source": [
    "- DecisionTree - max_depth=7 we got a score of 0.7884914463452566 <br>\n",
    "- Random Forest - n_estimators=13 we got a score of 0.7916018662519441<br>\n",
    "-  Logistic Regression - solver='newton-cg' we got a score of 0.7589424572317263<br>\n",
    "<b>  Random Forest has the best result </b>"
   ]
  },
  {
   "cell_type": "markdown",
   "metadata": {},
   "source": [
    "<div class=\"alert alert-success\">\n",
    "<b>Reviewer's comment</b>\n",
    "  \n",
    "Great, you tried three different models and tuned their hyperparameters using the validation set\n",
    "  \n",
    "</div>"
   ]
  },
  {
   "cell_type": "markdown",
   "metadata": {},
   "source": [
    "## Check the quality of the model using the test set."
   ]
  },
  {
   "cell_type": "code",
   "execution_count": 12,
   "metadata": {},
   "outputs": [],
   "source": [
    "# list of features columns\n",
    "features_test = df_test.drop(['is_ultra'], axis=1)\n",
    "\n",
    "# Target column\n",
    "target_test = df_test['is_ultra']\n"
   ]
  },
  {
   "cell_type": "markdown",
   "metadata": {},
   "source": [
    "###  DecisionTree"
   ]
  },
  {
   "cell_type": "code",
   "execution_count": 13,
   "metadata": {},
   "outputs": [
    {
     "name": "stdout",
     "output_type": "stream",
     "text": [
      "Accuracy\n",
      "Training set: 0.8272821576763485\n",
      "Test set: 0.7589424572317263\n"
     ]
    }
   ],
   "source": [
    "model = DecisionTreeClassifier(random_state=RANDOM_STATE, max_depth=5)\n",
    "# train the model \n",
    "model.fit(features_train, target_train)\n",
    "\n",
    "train_predictions = model.predict(features_train)\n",
    "train_accuracy = accuracy_score(target_train, train_predictions) \n",
    "\n",
    "predictions_test = model.predict(features_test)\n",
    "accuracy_test = accuracy_score(target_test, predictions_test) \n",
    "print('Accuracy')\n",
    "print('Training set:', train_accuracy )\n",
    "print('Test set:', accuracy_test )"
   ]
  },
  {
   "cell_type": "markdown",
   "metadata": {},
   "source": [
    "###  Random Forest"
   ]
  },
  {
   "cell_type": "code",
   "execution_count": 14,
   "metadata": {},
   "outputs": [
    {
     "name": "stdout",
     "output_type": "stream",
     "text": [
      "Accuracy\n",
      "Training set: 0.9901452282157677\n",
      "Test set: 0.7776049766718507\n"
     ]
    }
   ],
   "source": [
    "model = RandomForestClassifier(random_state=RANDOM_STATE, n_estimators=13)\n",
    "# train the model \n",
    "model.fit(features_train, target_train)\n",
    "\n",
    "train_predictions = model.predict(features_train)\n",
    "train_accuracy = accuracy_score(target_train, train_predictions) \n",
    "\n",
    "predictions_test = model.predict(features_test)\n",
    "accuracy_test = accuracy_score(target_test, predictions_test) \n",
    "print('Accuracy')\n",
    "print('Training set:', train_accuracy )\n",
    "print('Test set:', accuracy_test )"
   ]
  },
  {
   "cell_type": "markdown",
   "metadata": {},
   "source": [
    "###  Logistic Regression"
   ]
  },
  {
   "cell_type": "code",
   "execution_count": 15,
   "metadata": {
    "scrolled": true
   },
   "outputs": [
    {
     "name": "stdout",
     "output_type": "stream",
     "text": [
      "Accuracy\n",
      "Training set: 0.7510373443983402\n",
      "Test set: 0.7262830482115086\n"
     ]
    },
    {
     "name": "stderr",
     "output_type": "stream",
     "text": [
      "/opt/conda/lib/python3.7/site-packages/scipy/optimize/linesearch.py:466: LineSearchWarning: The line search algorithm did not converge\n",
      "  warn('The line search algorithm did not converge', LineSearchWarning)\n",
      "/opt/conda/lib/python3.7/site-packages/scipy/optimize/linesearch.py:314: LineSearchWarning: The line search algorithm did not converge\n",
      "  warn('The line search algorithm did not converge', LineSearchWarning)\n"
     ]
    }
   ],
   "source": [
    "model = LogisticRegression(random_state=RANDOM_STATE, solver='newton-cg', max_iter=350) \n",
    "# train the model \n",
    "model.fit(features_train, target_train)\n",
    "\n",
    "train_predictions = model.predict(features_train)\n",
    "train_accuracy = accuracy_score(target_train, train_predictions) \n",
    "\n",
    "predictions_test = model.predict(features_test)\n",
    "accuracy_test = accuracy_score(target_test, predictions_test) \n",
    "print('Accuracy')\n",
    "print('Training set:', train_accuracy )\n",
    "print('Test set:', accuracy_test )"
   ]
  },
  {
   "cell_type": "markdown",
   "metadata": {},
   "source": [
    "### Conclusion"
   ]
  },
  {
   "cell_type": "markdown",
   "metadata": {},
   "source": [
    "- Random Forest give as the best accuracy of 0.9901452282157677\n",
    "- DecisionTreegive as the accuracy of 0.8272821576763485\n",
    "- Logistic Regression gave us accuracy of 0.7510373443983402\n",
    "- All the models gave us better accuracy than the test set"
   ]
  },
  {
   "cell_type": "markdown",
   "metadata": {},
   "source": [
    "<div class=\"alert alert-success\">\n",
    "<b>Reviewer's comment</b>\n",
    "  \n",
    "Final models were evaluated on the test set\n",
    "  \n",
    "</div>"
   ]
  },
  {
   "cell_type": "markdown",
   "metadata": {},
   "source": [
    "## Additional task: sanity check the model. "
   ]
  },
  {
   "cell_type": "code",
   "execution_count": 16,
   "metadata": {
    "scrolled": true
   },
   "outputs": [
    {
     "name": "stdout",
     "output_type": "stream",
     "text": [
      "Training set Accuracy: 0.6945020746887967\n"
     ]
    }
   ],
   "source": [
    "dummy_model = DummyClassifier(strategy=\"most_frequent\")\n",
    "dummy_model.fit(features_train, target_train)\n",
    "\n",
    "dummy_accuracy = dummy_model.score(features_train, target_train)\n",
    "\n",
    "print('Training set Accuracy:', dummy_accuracy )"
   ]
  },
  {
   "cell_type": "markdown",
   "metadata": {},
   "source": [
    "### Conclusion"
   ]
  },
  {
   "cell_type": "markdown",
   "metadata": {},
   "source": [
    "The dummy model gave us accuracy of 0.6945020746887967.\n",
    "This is lower than all models that we built.\n",
    " **conclusion** <br>\n",
    "<b> we have a good model </b>"
   ]
  },
  {
   "cell_type": "markdown",
   "metadata": {},
   "source": [
    "<div class=\"alert alert-success\">\n",
    "<b>Reviewer's comment</b>\n",
    "  \n",
    "Yep, it's important to have a simple baseline to make sure that our models learn something non-trivial!\n",
    "  \n",
    "</div>"
   ]
  }
 ],
 "metadata": {
  "ExecuteTimeLog": [
   {
    "duration": 323,
    "start_time": "2021-09-19T12:56:23.168Z"
   },
   {
    "duration": 961,
    "start_time": "2021-09-19T12:56:26.193Z"
   },
   {
    "duration": 63,
    "start_time": "2021-09-19T12:56:28.400Z"
   },
   {
    "duration": 34,
    "start_time": "2021-09-19T12:57:08.719Z"
   },
   {
    "duration": 721,
    "start_time": "2021-09-21T12:12:38.196Z"
   },
   {
    "duration": 48,
    "start_time": "2021-09-21T12:12:38.920Z"
   },
   {
    "duration": 3,
    "start_time": "2021-09-21T12:13:12.343Z"
   },
   {
    "duration": 38,
    "start_time": "2021-09-21T12:13:12.349Z"
   },
   {
    "duration": 560,
    "start_time": "2021-09-21T12:28:36.616Z"
   },
   {
    "duration": 837,
    "start_time": "2021-09-21T18:08:08.534Z"
   },
   {
    "duration": 1106,
    "start_time": "2021-09-21T18:08:19.743Z"
   },
   {
    "duration": 294,
    "start_time": "2021-09-21T18:08:24.349Z"
   },
   {
    "duration": 36,
    "start_time": "2021-09-21T18:08:37.430Z"
   },
   {
    "duration": 5,
    "start_time": "2021-09-21T18:08:40.613Z"
   },
   {
    "duration": 4,
    "start_time": "2021-09-21T18:09:17.654Z"
   },
   {
    "duration": 4,
    "start_time": "2021-09-21T18:09:20.286Z"
   },
   {
    "duration": 4,
    "start_time": "2021-09-21T18:09:23.582Z"
   },
   {
    "duration": 7,
    "start_time": "2021-09-21T18:10:00.993Z"
   },
   {
    "duration": 3,
    "start_time": "2021-09-21T18:10:02.455Z"
   },
   {
    "duration": 4,
    "start_time": "2021-09-21T18:10:04.488Z"
   },
   {
    "duration": 4,
    "start_time": "2021-09-21T18:10:05.799Z"
   },
   {
    "duration": 7,
    "start_time": "2021-09-21T18:11:51.530Z"
   },
   {
    "duration": 4,
    "start_time": "2021-09-21T18:11:53.961Z"
   },
   {
    "duration": 3,
    "start_time": "2021-09-21T18:11:59.691Z"
   },
   {
    "duration": 3,
    "start_time": "2021-09-21T18:12:02.634Z"
   },
   {
    "duration": 7,
    "start_time": "2021-09-21T18:12:11.498Z"
   },
   {
    "duration": 4,
    "start_time": "2021-09-21T18:12:15.065Z"
   },
   {
    "duration": 3,
    "start_time": "2021-09-21T18:12:17.178Z"
   },
   {
    "duration": 4,
    "start_time": "2021-09-21T18:12:21.492Z"
   },
   {
    "duration": 3,
    "start_time": "2021-09-21T18:20:50.213Z"
   },
   {
    "duration": 249,
    "start_time": "2021-09-21T18:23:59.280Z"
   },
   {
    "duration": 4,
    "start_time": "2021-09-21T18:24:12.690Z"
   },
   {
    "duration": 18,
    "start_time": "2021-09-21T18:27:03.886Z"
   },
   {
    "duration": 984,
    "start_time": "2021-09-22T06:18:10.654Z"
   },
   {
    "duration": 34,
    "start_time": "2021-09-22T06:18:11.640Z"
   },
   {
    "duration": 7,
    "start_time": "2021-09-22T06:18:11.675Z"
   },
   {
    "duration": 4,
    "start_time": "2021-09-22T06:19:11.202Z"
   },
   {
    "duration": 3,
    "start_time": "2021-09-22T06:44:06.959Z"
   },
   {
    "duration": 35,
    "start_time": "2021-09-22T06:44:06.964Z"
   },
   {
    "duration": 2,
    "start_time": "2021-09-22T06:44:07.001Z"
   },
   {
    "duration": 8,
    "start_time": "2021-09-22T06:44:07.005Z"
   },
   {
    "duration": 3,
    "start_time": "2021-09-22T06:44:07.015Z"
   },
   {
    "duration": 5,
    "start_time": "2021-09-22T06:44:07.019Z"
   },
   {
    "duration": 5,
    "start_time": "2021-09-22T06:44:07.026Z"
   },
   {
    "duration": 5,
    "start_time": "2021-09-22T07:15:01.504Z"
   },
   {
    "duration": 352,
    "start_time": "2021-09-22T07:15:04.515Z"
   },
   {
    "duration": 26,
    "start_time": "2021-09-22T07:15:36.704Z"
   },
   {
    "duration": 153,
    "start_time": "2021-09-22T07:15:41.185Z"
   },
   {
    "duration": 254,
    "start_time": "2021-09-22T07:16:20.059Z"
   },
   {
    "duration": 248,
    "start_time": "2021-09-22T07:33:00.280Z"
   },
   {
    "duration": 508,
    "start_time": "2021-09-22T07:35:10.692Z"
   },
   {
    "duration": 242,
    "start_time": "2021-09-22T07:35:35.891Z"
   },
   {
    "duration": 233,
    "start_time": "2021-09-22T07:36:26.485Z"
   },
   {
    "duration": 232,
    "start_time": "2021-09-22T07:38:11.187Z"
   },
   {
    "duration": 252,
    "start_time": "2021-09-22T07:39:27.795Z"
   },
   {
    "duration": 260,
    "start_time": "2021-09-22T07:40:31.052Z"
   },
   {
    "duration": 310,
    "start_time": "2021-09-22T07:42:35.407Z"
   },
   {
    "duration": 4,
    "start_time": "2021-09-22T07:44:06.327Z"
   },
   {
    "duration": 223,
    "start_time": "2021-09-22T07:49:30.166Z"
   },
   {
    "duration": 11,
    "start_time": "2021-09-22T08:05:12.449Z"
   },
   {
    "duration": 3,
    "start_time": "2021-09-22T09:21:05.050Z"
   },
   {
    "duration": 36,
    "start_time": "2021-09-22T09:21:05.055Z"
   },
   {
    "duration": 3,
    "start_time": "2021-09-22T09:21:05.093Z"
   },
   {
    "duration": 10,
    "start_time": "2021-09-22T09:21:05.098Z"
   },
   {
    "duration": 4,
    "start_time": "2021-09-22T09:21:05.110Z"
   },
   {
    "duration": 5,
    "start_time": "2021-09-22T09:21:05.116Z"
   },
   {
    "duration": 22,
    "start_time": "2021-09-22T09:21:05.124Z"
   },
   {
    "duration": 8,
    "start_time": "2021-09-22T09:21:05.147Z"
   },
   {
    "duration": 239,
    "start_time": "2021-09-22T09:21:05.156Z"
   },
   {
    "duration": 1731,
    "start_time": "2021-09-22T09:23:52.462Z"
   },
   {
    "duration": 1730,
    "start_time": "2021-09-22T09:24:09.969Z"
   },
   {
    "duration": 1833,
    "start_time": "2021-09-22T09:24:37.137Z"
   },
   {
    "duration": 1917,
    "start_time": "2021-09-22T09:24:57.875Z"
   },
   {
    "duration": 3,
    "start_time": "2021-09-22T09:56:14.610Z"
   },
   {
    "duration": 97,
    "start_time": "2021-09-22T10:12:14.988Z"
   },
   {
    "duration": 175,
    "start_time": "2021-09-22T10:13:04.469Z"
   },
   {
    "duration": 182,
    "start_time": "2021-09-22T10:22:06.849Z"
   },
   {
    "duration": 193,
    "start_time": "2021-09-22T10:22:17.004Z"
   },
   {
    "duration": 268,
    "start_time": "2021-09-22T10:22:28.271Z"
   },
   {
    "duration": 479,
    "start_time": "2021-09-22T10:33:45.719Z"
   },
   {
    "duration": 255,
    "start_time": "2021-09-22T10:34:07.085Z"
   },
   {
    "duration": 258,
    "start_time": "2021-09-22T11:12:52.159Z"
   },
   {
    "duration": 246,
    "start_time": "2021-09-22T11:26:22.909Z"
   },
   {
    "duration": 250,
    "start_time": "2021-09-22T11:26:43.396Z"
   },
   {
    "duration": 4,
    "start_time": "2021-09-22T12:04:39.589Z"
   },
   {
    "duration": 11,
    "start_time": "2021-09-22T12:09:02.582Z"
   },
   {
    "duration": 433,
    "start_time": "2021-09-22T12:11:03.491Z"
   },
   {
    "duration": 11,
    "start_time": "2021-09-22T12:11:15.043Z"
   },
   {
    "duration": 306,
    "start_time": "2021-09-22T12:26:48.784Z"
   },
   {
    "duration": 290,
    "start_time": "2021-09-22T12:27:22.788Z"
   },
   {
    "duration": 12,
    "start_time": "2021-09-22T12:27:37.218Z"
   },
   {
    "duration": 60,
    "start_time": "2021-09-22T12:30:20.684Z"
   },
   {
    "duration": 94,
    "start_time": "2021-09-22T12:31:29.251Z"
   },
   {
    "duration": 3,
    "start_time": "2021-09-23T05:24:23.972Z"
   },
   {
    "duration": 38,
    "start_time": "2021-09-23T05:24:23.977Z"
   },
   {
    "duration": 3,
    "start_time": "2021-09-23T05:24:24.017Z"
   },
   {
    "duration": 9,
    "start_time": "2021-09-23T05:24:24.022Z"
   },
   {
    "duration": 6,
    "start_time": "2021-09-23T05:24:24.032Z"
   },
   {
    "duration": 5,
    "start_time": "2021-09-23T05:24:24.040Z"
   },
   {
    "duration": 10,
    "start_time": "2021-09-23T05:24:24.047Z"
   },
   {
    "duration": 6,
    "start_time": "2021-09-23T05:24:24.058Z"
   },
   {
    "duration": 242,
    "start_time": "2021-09-23T05:24:24.066Z"
   },
   {
    "duration": 1745,
    "start_time": "2021-09-23T05:24:24.310Z"
   },
   {
    "duration": 252,
    "start_time": "2021-09-23T05:24:26.057Z"
   },
   {
    "duration": 3,
    "start_time": "2021-09-23T05:24:26.311Z"
   },
   {
    "duration": 30,
    "start_time": "2021-09-23T05:24:26.316Z"
   },
   {
    "duration": 66,
    "start_time": "2021-09-23T05:24:26.348Z"
   },
   {
    "duration": 111,
    "start_time": "2021-09-23T05:24:26.415Z"
   },
   {
    "duration": 4,
    "start_time": "2021-09-23T06:32:02.298Z"
   },
   {
    "duration": 34,
    "start_time": "2021-09-23T06:32:02.304Z"
   },
   {
    "duration": 3,
    "start_time": "2021-09-23T06:32:02.341Z"
   },
   {
    "duration": 8,
    "start_time": "2021-09-23T06:32:02.346Z"
   },
   {
    "duration": 5,
    "start_time": "2021-09-23T06:32:02.356Z"
   },
   {
    "duration": 6,
    "start_time": "2021-09-23T06:32:02.363Z"
   },
   {
    "duration": 7,
    "start_time": "2021-09-23T06:32:02.370Z"
   },
   {
    "duration": 7,
    "start_time": "2021-09-23T06:32:02.379Z"
   },
   {
    "duration": 256,
    "start_time": "2021-09-23T06:32:02.388Z"
   },
   {
    "duration": 1573,
    "start_time": "2021-09-23T06:32:02.646Z"
   },
   {
    "duration": 246,
    "start_time": "2021-09-23T06:32:04.221Z"
   },
   {
    "duration": 3,
    "start_time": "2021-09-23T06:32:04.469Z"
   },
   {
    "duration": 15,
    "start_time": "2021-09-23T06:32:04.474Z"
   },
   {
    "duration": 81,
    "start_time": "2021-09-23T06:32:04.490Z"
   },
   {
    "duration": 105,
    "start_time": "2021-09-23T06:32:04.573Z"
   },
   {
    "duration": 1464,
    "start_time": "2021-09-23T08:35:06.913Z"
   },
   {
    "duration": 387,
    "start_time": "2021-09-23T08:47:48.229Z"
   },
   {
    "duration": 4,
    "start_time": "2021-09-23T08:48:03.367Z"
   },
   {
    "duration": 46,
    "start_time": "2021-09-23T08:48:03.377Z"
   },
   {
    "duration": 3,
    "start_time": "2021-09-23T08:48:03.427Z"
   },
   {
    "duration": 41,
    "start_time": "2021-09-23T08:48:03.433Z"
   },
   {
    "duration": 7,
    "start_time": "2021-09-23T08:48:03.477Z"
   },
   {
    "duration": 8,
    "start_time": "2021-09-23T08:48:03.486Z"
   },
   {
    "duration": 8,
    "start_time": "2021-09-23T08:48:03.497Z"
   },
   {
    "duration": 12,
    "start_time": "2021-09-23T08:48:03.508Z"
   },
   {
    "duration": 519,
    "start_time": "2021-09-23T08:48:03.525Z"
   },
   {
    "duration": 3627,
    "start_time": "2021-09-23T08:48:04.047Z"
   },
   {
    "duration": 633,
    "start_time": "2021-09-23T08:48:07.677Z"
   },
   {
    "duration": 7,
    "start_time": "2021-09-23T08:48:08.313Z"
   },
   {
    "duration": 19,
    "start_time": "2021-09-23T08:48:08.322Z"
   },
   {
    "duration": 138,
    "start_time": "2021-09-23T08:48:08.368Z"
   },
   {
    "duration": 336,
    "start_time": "2021-09-23T08:48:08.509Z"
   },
   {
    "duration": 294,
    "start_time": "2021-09-23T08:48:08.848Z"
   },
   {
    "duration": 285,
    "start_time": "2021-09-23T08:50:45.748Z"
   },
   {
    "duration": 11,
    "start_time": "2021-09-23T08:53:37.173Z"
   },
   {
    "duration": 992,
    "start_time": "2021-10-03T10:51:41.834Z"
   },
   {
    "duration": 37,
    "start_time": "2021-10-03T10:51:42.828Z"
   },
   {
    "duration": 2,
    "start_time": "2021-10-03T10:51:42.866Z"
   },
   {
    "duration": 7,
    "start_time": "2021-10-03T10:51:42.871Z"
   },
   {
    "duration": 4,
    "start_time": "2021-10-03T10:51:42.879Z"
   },
   {
    "duration": 4,
    "start_time": "2021-10-03T10:51:42.900Z"
   },
   {
    "duration": 6,
    "start_time": "2021-10-03T10:51:42.905Z"
   },
   {
    "duration": 4,
    "start_time": "2021-10-03T10:51:42.914Z"
   },
   {
    "duration": 239,
    "start_time": "2021-10-03T10:51:42.920Z"
   },
   {
    "duration": 1618,
    "start_time": "2021-10-03T10:51:43.161Z"
   },
   {
    "duration": 232,
    "start_time": "2021-10-03T10:51:44.781Z"
   },
   {
    "duration": 4,
    "start_time": "2021-10-03T10:51:45.015Z"
   },
   {
    "duration": 18,
    "start_time": "2021-10-03T10:51:45.020Z"
   },
   {
    "duration": 78,
    "start_time": "2021-10-03T10:51:45.039Z"
   },
   {
    "duration": 94,
    "start_time": "2021-10-03T10:51:45.118Z"
   },
   {
    "duration": 6,
    "start_time": "2021-10-03T10:51:45.214Z"
   },
   {
    "duration": 237,
    "start_time": "2021-10-03T10:52:03.209Z"
   }
  ],
  "kernelspec": {
   "display_name": "Python 3",
   "language": "python",
   "name": "python3"
  },
  "language_info": {
   "codemirror_mode": {
    "name": "ipython",
    "version": 3
   },
   "file_extension": ".py",
   "mimetype": "text/x-python",
   "name": "python",
   "nbconvert_exporter": "python",
   "pygments_lexer": "ipython3",
   "version": "3.8.3"
  },
  "toc": {
   "base_numbering": 1,
   "nav_menu": {},
   "number_sections": true,
   "sideBar": true,
   "skip_h1_title": true,
   "title_cell": "Table of Contents",
   "title_sidebar": "Contents",
   "toc_cell": false,
   "toc_position": {},
   "toc_section_display": true,
   "toc_window_display": false
  }
 },
 "nbformat": 4,
 "nbformat_minor": 2
}
